{
 "cells": [
  {
   "cell_type": "markdown",
   "metadata": {},
   "source": [
    "This Dataset contains tourists by country to Rio de Janeiro from 2006 to 2019.\n",
    "\n",
    "* País: Country.\n",
    "* Total: Total Number of Tourists arrived.\n",
    "* Aérea: Number of Tourists arrived by Air.\n",
    "* Marítima: Number of Tourists arrived by Sea.\n",
    "* Região: Continent Region.\n",
    "* Continente: Continent.\n",
    "* Ano: Year."
   ]
  },
  {
   "cell_type": "markdown",
   "metadata": {},
   "source": [
    "Importing Libraries"
   ]
  },
  {
   "cell_type": "code",
   "execution_count": 79,
   "metadata": {},
   "outputs": [],
   "source": [
    "import pandas as pd   \n",
    "\n",
    "from sklearn.linear_model import LinearRegression, Lasso, Ridge\n",
    "from sklearn.tree import DecisionTreeRegressor \n",
    "from sklearn.ensemble import RandomForestRegressor, GradientBoostingRegressor\n",
    "from sklearn import tree\n",
    "from sklearn.neighbors import KNeighborsRegressor\n",
    "\n",
    "from sklearn.model_selection import train_test_split, RepeatedKFold, GridSearchCV, cross_val_score\n",
    "\n",
    "from sklearn.ensemble import BaggingRegressor, StackingRegressor, VotingRegressor\n",
    "\n",
    "from numpy import mean\n",
    "import scipy\n",
    "import numpy as np\n",
    "\n",
    "import warnings \n",
    "warnings.filterwarnings('ignore')"
   ]
  },
  {
   "cell_type": "markdown",
   "metadata": {},
   "source": [
    "Importing dataset and displaying it using head() operation"
   ]
  },
  {
   "cell_type": "code",
   "execution_count": 108,
   "metadata": {},
   "outputs": [],
   "source": [
    "df = pd.read_csv('tourists-rj-2006-2019.csv')"
   ]
  },
  {
   "cell_type": "code",
   "execution_count": 109,
   "metadata": {},
   "outputs": [
    {
     "data": {
      "text/html": [
       "<div>\n",
       "<style scoped>\n",
       "    .dataframe tbody tr th:only-of-type {\n",
       "        vertical-align: middle;\n",
       "    }\n",
       "\n",
       "    .dataframe tbody tr th {\n",
       "        vertical-align: top;\n",
       "    }\n",
       "\n",
       "    .dataframe thead th {\n",
       "        text-align: right;\n",
       "    }\n",
       "</style>\n",
       "<table border=\"1\" class=\"dataframe\">\n",
       "  <thead>\n",
       "    <tr style=\"text-align: right;\">\n",
       "      <th></th>\n",
       "      <th>País</th>\n",
       "      <th>Total</th>\n",
       "      <th>Aérea</th>\n",
       "      <th>Marítima</th>\n",
       "      <th>Região</th>\n",
       "      <th>Continente</th>\n",
       "      <th>Ano</th>\n",
       "    </tr>\n",
       "  </thead>\n",
       "  <tbody>\n",
       "    <tr>\n",
       "      <th>0</th>\n",
       "      <td>África do Sul</td>\n",
       "      <td>3545</td>\n",
       "      <td>3012</td>\n",
       "      <td>533</td>\n",
       "      <td>África</td>\n",
       "      <td>África</td>\n",
       "      <td>2006</td>\n",
       "    </tr>\n",
       "    <tr>\n",
       "      <th>1</th>\n",
       "      <td>Angola</td>\n",
       "      <td>21662</td>\n",
       "      <td>21606</td>\n",
       "      <td>56</td>\n",
       "      <td>África</td>\n",
       "      <td>África</td>\n",
       "      <td>2006</td>\n",
       "    </tr>\n",
       "    <tr>\n",
       "      <th>2</th>\n",
       "      <td>Cabo Verde</td>\n",
       "      <td>2407</td>\n",
       "      <td>2407</td>\n",
       "      <td>0</td>\n",
       "      <td>África</td>\n",
       "      <td>África</td>\n",
       "      <td>2006</td>\n",
       "    </tr>\n",
       "    <tr>\n",
       "      <th>3</th>\n",
       "      <td>Nigéria</td>\n",
       "      <td>238</td>\n",
       "      <td>233</td>\n",
       "      <td>5</td>\n",
       "      <td>África</td>\n",
       "      <td>África</td>\n",
       "      <td>2006</td>\n",
       "    </tr>\n",
       "    <tr>\n",
       "      <th>4</th>\n",
       "      <td>Outros</td>\n",
       "      <td>1900</td>\n",
       "      <td>1783</td>\n",
       "      <td>117</td>\n",
       "      <td>África</td>\n",
       "      <td>África</td>\n",
       "      <td>2006</td>\n",
       "    </tr>\n",
       "  </tbody>\n",
       "</table>\n",
       "</div>"
      ],
      "text/plain": [
       "               País  Total  Aérea  Marítima  Região Continente   Ano\n",
       "0     África do Sul   3545   3012       533  África     África  2006\n",
       "1            Angola  21662  21606        56  África     África  2006\n",
       "2        Cabo Verde   2407   2407         0  África     África  2006\n",
       "3           Nigéria    238    233         5  África     África  2006\n",
       "4            Outros   1900   1783       117  África     África  2006"
      ]
     },
     "execution_count": 109,
     "metadata": {},
     "output_type": "execute_result"
    }
   ],
   "source": [
    "df.head()"
   ]
  },
  {
   "cell_type": "markdown",
   "metadata": {},
   "source": [
    "Renaming non english columns names in English language "
   ]
  },
  {
   "cell_type": "code",
   "execution_count": 110,
   "metadata": {},
   "outputs": [],
   "source": [
    "df.rename(columns = {\"País\":\"Country\",\n",
    "                     \"Aérea\":\"Total_Arrived_by_air\",\n",
    "                     \"Marítima\":\"Total_Arrived_by_sea\",\n",
    "                     \"Região\":\"Region\",\n",
    "                     \"Continente\":\"Continent\", \n",
    "                     \"Ano\":\"Year\"}, inplace = True)"
   ]
  },
  {
   "cell_type": "code",
   "execution_count": 83,
   "metadata": {},
   "outputs": [
    {
     "data": {
      "text/html": [
       "<div>\n",
       "<style scoped>\n",
       "    .dataframe tbody tr th:only-of-type {\n",
       "        vertical-align: middle;\n",
       "    }\n",
       "\n",
       "    .dataframe tbody tr th {\n",
       "        vertical-align: top;\n",
       "    }\n",
       "\n",
       "    .dataframe thead th {\n",
       "        text-align: right;\n",
       "    }\n",
       "</style>\n",
       "<table border=\"1\" class=\"dataframe\">\n",
       "  <thead>\n",
       "    <tr style=\"text-align: right;\">\n",
       "      <th></th>\n",
       "      <th>Country</th>\n",
       "      <th>Total</th>\n",
       "      <th>Total_Arrived_by_air</th>\n",
       "      <th>Total_Arrived_by_sea</th>\n",
       "      <th>Region</th>\n",
       "      <th>Continent</th>\n",
       "      <th>Year</th>\n",
       "    </tr>\n",
       "  </thead>\n",
       "  <tbody>\n",
       "    <tr>\n",
       "      <th>0</th>\n",
       "      <td>África do Sul</td>\n",
       "      <td>3545</td>\n",
       "      <td>3012</td>\n",
       "      <td>533</td>\n",
       "      <td>África</td>\n",
       "      <td>África</td>\n",
       "      <td>2006</td>\n",
       "    </tr>\n",
       "  </tbody>\n",
       "</table>\n",
       "</div>"
      ],
      "text/plain": [
       "            Country  Total  Total_Arrived_by_air  Total_Arrived_by_sea  \\\n",
       "0     África do Sul   3545                  3012                   533   \n",
       "\n",
       "   Region Continent  Year  \n",
       "0  África    África  2006  "
      ]
     },
     "execution_count": 83,
     "metadata": {},
     "output_type": "execute_result"
    }
   ],
   "source": [
    "df.head(1)"
   ]
  },
  {
   "cell_type": "markdown",
   "metadata": {},
   "source": [
    "Checking Missing Values"
   ]
  },
  {
   "cell_type": "code",
   "execution_count": 84,
   "metadata": {},
   "outputs": [
    {
     "data": {
      "text/plain": [
       "Country                 0\n",
       "Total                   0\n",
       "Total_Arrived_by_air    0\n",
       "Total_Arrived_by_sea    0\n",
       "Region                  0\n",
       "Continent               0\n",
       "Year                    0\n",
       "dtype: int64"
      ]
     },
     "execution_count": 84,
     "metadata": {},
     "output_type": "execute_result"
    }
   ],
   "source": [
    "df.isna().sum()"
   ]
  },
  {
   "cell_type": "markdown",
   "metadata": {},
   "source": [
    "One-Hot Encoding on dataset before model implementation"
   ]
  },
  {
   "cell_type": "code",
   "execution_count": 85,
   "metadata": {},
   "outputs": [],
   "source": [
    "df_onehot = pd.get_dummies(df)"
   ]
  },
  {
   "cell_type": "code",
   "execution_count": 86,
   "metadata": {},
   "outputs": [
    {
     "data": {
      "text/html": [
       "<div>\n",
       "<style scoped>\n",
       "    .dataframe tbody tr th:only-of-type {\n",
       "        vertical-align: middle;\n",
       "    }\n",
       "\n",
       "    .dataframe tbody tr th {\n",
       "        vertical-align: top;\n",
       "    }\n",
       "\n",
       "    .dataframe thead th {\n",
       "        text-align: right;\n",
       "    }\n",
       "</style>\n",
       "<table border=\"1\" class=\"dataframe\">\n",
       "  <thead>\n",
       "    <tr style=\"text-align: right;\">\n",
       "      <th></th>\n",
       "      <th>Total</th>\n",
       "      <th>Total_Arrived_by_air</th>\n",
       "      <th>Total_Arrived_by_sea</th>\n",
       "      <th>Year</th>\n",
       "      <th>Country_   Alemanha</th>\n",
       "      <th>Country_   Angola</th>\n",
       "      <th>Country_   Argentina</th>\n",
       "      <th>Country_   Arábia Saudita</th>\n",
       "      <th>Country_   Austrália</th>\n",
       "      <th>Country_   Bolívia</th>\n",
       "      <th>...</th>\n",
       "      <th>Region_Europa</th>\n",
       "      <th>Region_Oceania</th>\n",
       "      <th>Region_Oriente Médio</th>\n",
       "      <th>Region_África</th>\n",
       "      <th>Region_Ásia</th>\n",
       "      <th>Continent_América</th>\n",
       "      <th>Continent_Europa</th>\n",
       "      <th>Continent_Oceania</th>\n",
       "      <th>Continent_África</th>\n",
       "      <th>Continent_Ásia</th>\n",
       "    </tr>\n",
       "  </thead>\n",
       "  <tbody>\n",
       "    <tr>\n",
       "      <th>0</th>\n",
       "      <td>3545</td>\n",
       "      <td>3012</td>\n",
       "      <td>533</td>\n",
       "      <td>2006</td>\n",
       "      <td>0</td>\n",
       "      <td>0</td>\n",
       "      <td>0</td>\n",
       "      <td>0</td>\n",
       "      <td>0</td>\n",
       "      <td>0</td>\n",
       "      <td>...</td>\n",
       "      <td>0</td>\n",
       "      <td>0</td>\n",
       "      <td>0</td>\n",
       "      <td>1</td>\n",
       "      <td>0</td>\n",
       "      <td>0</td>\n",
       "      <td>0</td>\n",
       "      <td>0</td>\n",
       "      <td>1</td>\n",
       "      <td>0</td>\n",
       "    </tr>\n",
       "    <tr>\n",
       "      <th>1</th>\n",
       "      <td>21662</td>\n",
       "      <td>21606</td>\n",
       "      <td>56</td>\n",
       "      <td>2006</td>\n",
       "      <td>0</td>\n",
       "      <td>1</td>\n",
       "      <td>0</td>\n",
       "      <td>0</td>\n",
       "      <td>0</td>\n",
       "      <td>0</td>\n",
       "      <td>...</td>\n",
       "      <td>0</td>\n",
       "      <td>0</td>\n",
       "      <td>0</td>\n",
       "      <td>1</td>\n",
       "      <td>0</td>\n",
       "      <td>0</td>\n",
       "      <td>0</td>\n",
       "      <td>0</td>\n",
       "      <td>1</td>\n",
       "      <td>0</td>\n",
       "    </tr>\n",
       "    <tr>\n",
       "      <th>2</th>\n",
       "      <td>2407</td>\n",
       "      <td>2407</td>\n",
       "      <td>0</td>\n",
       "      <td>2006</td>\n",
       "      <td>0</td>\n",
       "      <td>0</td>\n",
       "      <td>0</td>\n",
       "      <td>0</td>\n",
       "      <td>0</td>\n",
       "      <td>0</td>\n",
       "      <td>...</td>\n",
       "      <td>0</td>\n",
       "      <td>0</td>\n",
       "      <td>0</td>\n",
       "      <td>1</td>\n",
       "      <td>0</td>\n",
       "      <td>0</td>\n",
       "      <td>0</td>\n",
       "      <td>0</td>\n",
       "      <td>1</td>\n",
       "      <td>0</td>\n",
       "    </tr>\n",
       "    <tr>\n",
       "      <th>3</th>\n",
       "      <td>238</td>\n",
       "      <td>233</td>\n",
       "      <td>5</td>\n",
       "      <td>2006</td>\n",
       "      <td>0</td>\n",
       "      <td>0</td>\n",
       "      <td>0</td>\n",
       "      <td>0</td>\n",
       "      <td>0</td>\n",
       "      <td>0</td>\n",
       "      <td>...</td>\n",
       "      <td>0</td>\n",
       "      <td>0</td>\n",
       "      <td>0</td>\n",
       "      <td>1</td>\n",
       "      <td>0</td>\n",
       "      <td>0</td>\n",
       "      <td>0</td>\n",
       "      <td>0</td>\n",
       "      <td>1</td>\n",
       "      <td>0</td>\n",
       "    </tr>\n",
       "    <tr>\n",
       "      <th>4</th>\n",
       "      <td>1900</td>\n",
       "      <td>1783</td>\n",
       "      <td>117</td>\n",
       "      <td>2006</td>\n",
       "      <td>0</td>\n",
       "      <td>0</td>\n",
       "      <td>0</td>\n",
       "      <td>0</td>\n",
       "      <td>0</td>\n",
       "      <td>0</td>\n",
       "      <td>...</td>\n",
       "      <td>0</td>\n",
       "      <td>0</td>\n",
       "      <td>0</td>\n",
       "      <td>1</td>\n",
       "      <td>0</td>\n",
       "      <td>0</td>\n",
       "      <td>0</td>\n",
       "      <td>0</td>\n",
       "      <td>1</td>\n",
       "      <td>0</td>\n",
       "    </tr>\n",
       "  </tbody>\n",
       "</table>\n",
       "<p>5 rows × 160 columns</p>\n",
       "</div>"
      ],
      "text/plain": [
       "   Total  Total_Arrived_by_air  Total_Arrived_by_sea  Year  \\\n",
       "0   3545                  3012                   533  2006   \n",
       "1  21662                 21606                    56  2006   \n",
       "2   2407                  2407                     0  2006   \n",
       "3    238                   233                     5  2006   \n",
       "4   1900                  1783                   117  2006   \n",
       "\n",
       "   Country_   Alemanha  Country_   Angola  Country_   Argentina  \\\n",
       "0                    0                  0                     0   \n",
       "1                    0                  1                     0   \n",
       "2                    0                  0                     0   \n",
       "3                    0                  0                     0   \n",
       "4                    0                  0                     0   \n",
       "\n",
       "   Country_   Arábia Saudita  Country_   Austrália  Country_   Bolívia  ...  \\\n",
       "0                          0                     0                   0  ...   \n",
       "1                          0                     0                   0  ...   \n",
       "2                          0                     0                   0  ...   \n",
       "3                          0                     0                   0  ...   \n",
       "4                          0                     0                   0  ...   \n",
       "\n",
       "   Region_Europa  Region_Oceania  Region_Oriente Médio  Region_África  \\\n",
       "0              0               0                     0              1   \n",
       "1              0               0                     0              1   \n",
       "2              0               0                     0              1   \n",
       "3              0               0                     0              1   \n",
       "4              0               0                     0              1   \n",
       "\n",
       "   Region_Ásia  Continent_América  Continent_Europa  Continent_Oceania  \\\n",
       "0            0                  0                 0                  0   \n",
       "1            0                  0                 0                  0   \n",
       "2            0                  0                 0                  0   \n",
       "3            0                  0                 0                  0   \n",
       "4            0                  0                 0                  0   \n",
       "\n",
       "   Continent_África  Continent_Ásia  \n",
       "0                 1               0  \n",
       "1                 1               0  \n",
       "2                 1               0  \n",
       "3                 1               0  \n",
       "4                 1               0  \n",
       "\n",
       "[5 rows x 160 columns]"
      ]
     },
     "execution_count": 86,
     "metadata": {},
     "output_type": "execute_result"
    }
   ],
   "source": [
    "df_onehot.head()"
   ]
  },
  {
   "cell_type": "markdown",
   "metadata": {},
   "source": [
    "We will be predicting only one column i.e., Total_Arrived_by_air\n",
    "\n",
    "So,\n",
    "* Dependent Variable (Y): Total_Arrived_by_air\n",
    "* Independent Variable (X1, X2, ...): Rest of the columns\n"
   ]
  },
  {
   "cell_type": "markdown",
   "metadata": {},
   "source": [
    "Train-Test Split"
   ]
  },
  {
   "cell_type": "code",
   "execution_count": 87,
   "metadata": {},
   "outputs": [],
   "source": [
    "X = df_onehot.drop(columns=['Total', 'Total_Arrived_by_air'])\n",
    "y = df_onehot[['Total_Arrived_by_air']]\n",
    "# X_train, X_test, y_train, y_test = train_test_split(X, y, test_size = 0.3)"
   ]
  },
  {
   "cell_type": "markdown",
   "metadata": {},
   "source": [
    "Models Implementations"
   ]
  },
  {
   "cell_type": "code",
   "execution_count": 88,
   "metadata": {},
   "outputs": [],
   "source": [
    "def fitting_models_CV():\n",
    "    cv = RepeatedKFold(n_splits=10, n_repeats=3, random_state=1)\n",
    "    \n",
    "    lr=LinearRegression()\n",
    "    ls = Lasso(alpha=10.5)\n",
    "    rg = Ridge(alpha=1.5)\n",
    "    dt = DecisionTreeRegressor(max_depth=50)\n",
    "    rfr = RandomForestRegressor()\n",
    "    gbr = GradientBoostingRegressor()\n",
    "    knr = KNeighborsRegressor(n_neighbors=20)\n",
    "    rgs = [('Linear Regression', lr),\n",
    "        ('Lasso', ls),\n",
    "        ('Ridge', rg),\n",
    "        ('Decision Tree', dt),\n",
    "        ('Random Forest', rfr),\n",
    "        ('Gradient Boosting', gbr),\n",
    "        ('KNearest Neighbor',knr)       \n",
    "    ]\n",
    "    for name,rg in rgs:\n",
    "        scores = cross_val_score(rg, X, y, cv=cv) \n",
    "        #rg.fit(X_train,y_train)\n",
    "        #pred = rg.predict(X_test)\n",
    "        score = format(mean(scores), '.4f')\n",
    "        print(\"{} : {}\".format(name,score))"
   ]
  },
  {
   "cell_type": "code",
   "execution_count": 89,
   "metadata": {},
   "outputs": [
    {
     "name": "stdout",
     "output_type": "stream",
     "text": [
      "Linear Regression : -19645401907366692.0000\n",
      "Lasso : 0.7696\n",
      "Ridge : 0.7981\n",
      "Decision Tree : 0.9099\n",
      "Random Forest : 0.9253\n",
      "Gradient Boosting : 0.9191\n",
      "KNearest Neighbor : 0.5483\n"
     ]
    }
   ],
   "source": [
    "fitting_models_CV()"
   ]
  },
  {
   "cell_type": "markdown",
   "metadata": {},
   "source": [
    "`Conclusion`\n",
    " \n",
    "* Random Forest Regressor or Gradient Boosting Regressor can be a good choice.\n",
    "\n",
    "* Using grid search and different approaches, We can further improve the accuracy. "
   ]
  },
  {
   "cell_type": "markdown",
   "metadata": {},
   "source": [
    "Looping to check the gradient boosting Regressor on different train test split"
   ]
  },
  {
   "cell_type": "code",
   "execution_count": 90,
   "metadata": {},
   "outputs": [
    {
     "name": "stdout",
     "output_type": "stream",
     "text": [
      "0 - 0.9016216232564723\n",
      "1 - 0.9099734265477515\n",
      "2 - 0.9187502638986772\n",
      "3 - 0.9190877249796394\n",
      "4 - 0.9117061650294278\n",
      "5 - 0.9128271392412147\n",
      "6 - 0.9090598811674316\n",
      "7 - 0.9122879724603861\n",
      "8 - 0.9128118306346205\n",
      "9 - 0.9131280127928215\n"
     ]
    }
   ],
   "source": [
    "X = df_onehot.drop(columns=['Total', 'Total_Arrived_by_air'])\n",
    "y = df_onehot[['Total_Arrived_by_air']]\n",
    "scores = []\n",
    "\n",
    "for each_outer in range(0,10):\n",
    "    for each_inner in range(0,10):\n",
    "        X_train, X_test, y_train, y_test = train_test_split(X, y, test_size = 0.3)\n",
    "        reg = GradientBoostingRegressor(max_depth=5, n_estimators=100)\n",
    "        reg.fit(X_train, y_train)\n",
    "\n",
    "        reg.predict(X_test)\n",
    "        accuracy = reg.score(X_test, y_test)\n",
    "        scores.append(accuracy)\n",
    "    \n",
    "    print(str(each_outer) + ' - ' + str(mean(scores)))\n",
    "    "
   ]
  },
  {
   "cell_type": "markdown",
   "metadata": {},
   "source": [
    "So the accuracy remains between 87%-92%"
   ]
  },
  {
   "cell_type": "markdown",
   "metadata": {},
   "source": [
    "Looping to check the Random Forest Regressor on different train test split"
   ]
  },
  {
   "cell_type": "code",
   "execution_count": 91,
   "metadata": {},
   "outputs": [
    {
     "name": "stdout",
     "output_type": "stream",
     "text": [
      "0 - 0.8420306264268463\n",
      "1 - 0.8596938639889329\n",
      "2 - 0.8652225529131906\n",
      "3 - 0.8615512073244013\n",
      "4 - 0.8669171167472948\n",
      "5 - 0.8701198807036639\n",
      "6 - 0.8718756478845096\n",
      "7 - 0.8755695222523376\n",
      "8 - 0.8713422726127279\n",
      "9 - 0.8700654390512358\n"
     ]
    }
   ],
   "source": [
    "X = df_onehot.drop(columns=['Total', 'Total_Arrived_by_air'])\n",
    "y = df_onehot[['Total_Arrived_by_air']]\n",
    "scores = []\n",
    "\n",
    "for each_outer in range(0,10):\n",
    "    for each_inner in range(0,10):\n",
    "        X_train, X_test, y_train, y_test = train_test_split(X, y, test_size = 0.3)\n",
    "        reg = RandomForestRegressor(max_depth=5, n_estimators=50)\n",
    "        reg.fit(X_train, y_train)\n",
    "\n",
    "        reg.predict(X_test)\n",
    "        accuracy = reg.score(X_test, y_test)\n",
    "        scores.append(accuracy)\n",
    "    \n",
    "    print(str(each_outer) + ' - ' + str(mean(scores)))\n",
    "    "
   ]
  },
  {
   "cell_type": "markdown",
   "metadata": {},
   "source": [
    "So the accuracy remains between 84%-90%"
   ]
  },
  {
   "cell_type": "markdown",
   "metadata": {},
   "source": [
    "Grid Search Code for finding best Gradient Boosting Algorithm parameters"
   ]
  },
  {
   "cell_type": "code",
   "execution_count": 92,
   "metadata": {},
   "outputs": [
    {
     "name": "stdout",
     "output_type": "stream",
     "text": [
      "Can't run the code here, it takes too much time!\n"
     ]
    }
   ],
   "source": [
    "# cv = RepeatedKFold(n_splits=10, n_repeats=1, random_state=1)\n",
    "# regRF = GradientBoostingRegressor(max_depth=5, random_state=0, n_estimators=50)\n",
    "# param_grid = {\n",
    "#     'bootstrap': [True],\n",
    "#     'max_depth': [5, 10, 15],\n",
    "#     'max_features': [2, 3, 4],    \n",
    "#     'min_samples_split': [8, 10, 12],\n",
    "#     'n_estimators': [100, 200, 300] \n",
    "# }\n",
    "# grid_search = GridSearchCV(estimator = regRF, param_grid=param_grid, cv = cv, n_jobs = -1, verbose = 2)\n",
    "# grid_search.fit(X, y)\n",
    "# best_grid = grid_search.best_estimator_\n",
    "# print(best_grid)\n",
    "print('Can\\'t run the code here, it takes too much time!')"
   ]
  },
  {
   "cell_type": "markdown",
   "metadata": {},
   "source": [
    "Bagging Regressor"
   ]
  },
  {
   "cell_type": "code",
   "execution_count": 93,
   "metadata": {},
   "outputs": [
    {
     "name": "stdout",
     "output_type": "stream",
     "text": [
      "0.9004\n"
     ]
    }
   ],
   "source": [
    "cv = RepeatedKFold(n_splits=10, n_repeats=1)#, random_state=1)\n",
    "reg_bg = BaggingRegressor(base_estimator=GradientBoostingRegressor(max_depth=5, n_estimators=100),\n",
    "                        n_estimators=20, random_state=0)\n",
    "scores = cross_val_score(reg_bg, X, y, cv=cv)\n",
    "score = format(mean(scores), '.4f')\n",
    "print(score)"
   ]
  },
  {
   "cell_type": "markdown",
   "metadata": {},
   "source": [
    "Stacking Regressor best three models (Decision Tree, Random Forest, Gradient Boosting)"
   ]
  },
  {
   "cell_type": "code",
   "execution_count": 94,
   "metadata": {},
   "outputs": [
    {
     "name": "stdout",
     "output_type": "stream",
     "text": [
      "0.7380\n"
     ]
    }
   ],
   "source": [
    "cv = RepeatedKFold(n_splits=10, n_repeats=1)#, random_state=1)\n",
    "estimators = [\n",
    "('dt', DecisionTreeRegressor(max_depth=50)),\n",
    "('rf', RandomForestRegressor(max_depth=5, n_estimators=50))\n",
    "]\n",
    "\n",
    "reg_sr = StackingRegressor(estimators=estimators, final_estimator=GradientBoostingRegressor(max_depth=5, n_estimators=100, random_state=42))\n",
    "scores = cross_val_score(reg_sr, X, y, cv=cv)\n",
    "score = format(mean(scores), '.4f')\n",
    "print(score)"
   ]
  },
  {
   "cell_type": "markdown",
   "metadata": {},
   "source": [
    "Voting Regressor with best models"
   ]
  },
  {
   "cell_type": "code",
   "execution_count": 95,
   "metadata": {},
   "outputs": [
    {
     "name": "stdout",
     "output_type": "stream",
     "text": [
      "0.9207\n"
     ]
    }
   ],
   "source": [
    "cv = RepeatedKFold(n_splits=10, n_repeats=1)#, random_state=1)\n",
    "r1 = DecisionTreeRegressor(max_depth=50)\n",
    "r2 = RandomForestRegressor(max_depth=5,n_estimators=50)\n",
    "r3 = GradientBoostingRegressor(max_depth=5,n_estimators=100)\n",
    "\n",
    "reg_vr = VotingRegressor([('dt', r1), ('rf', r2),('gb', r3)])\n",
    "scores = cross_val_score(reg_vr, X, y, cv=cv)\n",
    "score = format(mean(scores), '.4f')\n",
    "print(score)"
   ]
  },
  {
   "cell_type": "markdown",
   "id": "da82f8d8",
   "metadata": {},
   "source": [
    "Log transformation"
   ]
  },
  {
   "cell_type": "code",
   "execution_count": 96,
   "metadata": {},
   "outputs": [
    {
     "data": {
      "text/html": [
       "<div>\n",
       "<style scoped>\n",
       "    .dataframe tbody tr th:only-of-type {\n",
       "        vertical-align: middle;\n",
       "    }\n",
       "\n",
       "    .dataframe tbody tr th {\n",
       "        vertical-align: top;\n",
       "    }\n",
       "\n",
       "    .dataframe thead th {\n",
       "        text-align: right;\n",
       "    }\n",
       "</style>\n",
       "<table border=\"1\" class=\"dataframe\">\n",
       "  <thead>\n",
       "    <tr style=\"text-align: right;\">\n",
       "      <th></th>\n",
       "      <th>Feature</th>\n",
       "      <th>Skew</th>\n",
       "      <th>Abs Skew</th>\n",
       "      <th>Skewed</th>\n",
       "    </tr>\n",
       "  </thead>\n",
       "  <tbody>\n",
       "    <tr>\n",
       "      <th>0</th>\n",
       "      <td>Total</td>\n",
       "      <td>5.676921</td>\n",
       "      <td>5.676921</td>\n",
       "      <td>True</td>\n",
       "    </tr>\n",
       "    <tr>\n",
       "      <th>1</th>\n",
       "      <td>Total_Arrived_by_air</td>\n",
       "      <td>5.528274</td>\n",
       "      <td>5.528274</td>\n",
       "      <td>True</td>\n",
       "    </tr>\n",
       "    <tr>\n",
       "      <th>2</th>\n",
       "      <td>Total_Arrived_by_sea</td>\n",
       "      <td>10.656239</td>\n",
       "      <td>10.656239</td>\n",
       "      <td>True</td>\n",
       "    </tr>\n",
       "    <tr>\n",
       "      <th>3</th>\n",
       "      <td>Year</td>\n",
       "      <td>-0.263379</td>\n",
       "      <td>0.263379</td>\n",
       "      <td>False</td>\n",
       "    </tr>\n",
       "  </tbody>\n",
       "</table>\n",
       "</div>"
      ],
      "text/plain": [
       "                Feature       Skew   Abs Skew  Skewed\n",
       "0                 Total   5.676921   5.676921    True\n",
       "1  Total_Arrived_by_air   5.528274   5.528274    True\n",
       "2  Total_Arrived_by_sea  10.656239  10.656239    True\n",
       "3                  Year  -0.263379   0.263379   False"
      ]
     },
     "execution_count": 96,
     "metadata": {},
     "output_type": "execute_result"
    }
   ],
   "source": [
    "numeric_train_columns = pd.DataFrame(df.select_dtypes(np.number).columns, columns=['Feature'])\n",
    "numeric_train_columns['Skew'] = numeric_train_columns['Feature'].apply(lambda feature: scipy.stats.skew(df[feature]))\n",
    "numeric_train_columns['Abs Skew'] = numeric_train_columns['Skew'].apply(abs)\n",
    "numeric_train_columns['Skewed'] = numeric_train_columns['Abs Skew'].apply(lambda x: True if x > 0.5 else False)\n",
    "numeric_train_columns"
   ]
  },
  {
   "cell_type": "code",
   "execution_count": 99,
   "id": "e4c7f125",
   "metadata": {},
   "outputs": [],
   "source": [
    "for column in numeric_train_columns.query('Skewed == True')['Feature'].values:\n",
    "    df[column] = np.log1p(df[column])"
   ]
  },
  {
   "cell_type": "code",
   "execution_count": 101,
   "id": "b8d408da",
   "metadata": {},
   "outputs": [
    {
     "data": {
      "text/html": [
       "<div>\n",
       "<style scoped>\n",
       "    .dataframe tbody tr th:only-of-type {\n",
       "        vertical-align: middle;\n",
       "    }\n",
       "\n",
       "    .dataframe tbody tr th {\n",
       "        vertical-align: top;\n",
       "    }\n",
       "\n",
       "    .dataframe thead th {\n",
       "        text-align: right;\n",
       "    }\n",
       "</style>\n",
       "<table border=\"1\" class=\"dataframe\">\n",
       "  <thead>\n",
       "    <tr style=\"text-align: right;\">\n",
       "      <th></th>\n",
       "      <th>Country</th>\n",
       "      <th>Total</th>\n",
       "      <th>Total_Arrived_by_air</th>\n",
       "      <th>Total_Arrived_by_sea</th>\n",
       "      <th>Region</th>\n",
       "      <th>Continent</th>\n",
       "      <th>Year</th>\n",
       "    </tr>\n",
       "  </thead>\n",
       "  <tbody>\n",
       "    <tr>\n",
       "      <th>0</th>\n",
       "      <td>África do Sul</td>\n",
       "      <td>8.173575</td>\n",
       "      <td>8.010692</td>\n",
       "      <td>6.280396</td>\n",
       "      <td>África</td>\n",
       "      <td>África</td>\n",
       "      <td>2006</td>\n",
       "    </tr>\n",
       "    <tr>\n",
       "      <th>1</th>\n",
       "      <td>Angola</td>\n",
       "      <td>9.983361</td>\n",
       "      <td>9.980773</td>\n",
       "      <td>4.043051</td>\n",
       "      <td>África</td>\n",
       "      <td>África</td>\n",
       "      <td>2006</td>\n",
       "    </tr>\n",
       "    <tr>\n",
       "      <th>2</th>\n",
       "      <td>Cabo Verde</td>\n",
       "      <td>7.786552</td>\n",
       "      <td>7.786552</td>\n",
       "      <td>0.000000</td>\n",
       "      <td>África</td>\n",
       "      <td>África</td>\n",
       "      <td>2006</td>\n",
       "    </tr>\n",
       "    <tr>\n",
       "      <th>3</th>\n",
       "      <td>Nigéria</td>\n",
       "      <td>5.476464</td>\n",
       "      <td>5.455321</td>\n",
       "      <td>1.791759</td>\n",
       "      <td>África</td>\n",
       "      <td>África</td>\n",
       "      <td>2006</td>\n",
       "    </tr>\n",
       "    <tr>\n",
       "      <th>4</th>\n",
       "      <td>Outros</td>\n",
       "      <td>7.550135</td>\n",
       "      <td>7.486613</td>\n",
       "      <td>4.770685</td>\n",
       "      <td>África</td>\n",
       "      <td>África</td>\n",
       "      <td>2006</td>\n",
       "    </tr>\n",
       "  </tbody>\n",
       "</table>\n",
       "</div>"
      ],
      "text/plain": [
       "            Country     Total  Total_Arrived_by_air  Total_Arrived_by_sea  \\\n",
       "0     África do Sul  8.173575              8.010692              6.280396   \n",
       "1            Angola  9.983361              9.980773              4.043051   \n",
       "2        Cabo Verde  7.786552              7.786552              0.000000   \n",
       "3           Nigéria  5.476464              5.455321              1.791759   \n",
       "4            Outros  7.550135              7.486613              4.770685   \n",
       "\n",
       "   Region Continent  Year  \n",
       "0  África    África  2006  \n",
       "1  África    África  2006  \n",
       "2  África    África  2006  \n",
       "3  África    África  2006  \n",
       "4  África    África  2006  "
      ]
     },
     "execution_count": 101,
     "metadata": {},
     "output_type": "execute_result"
    }
   ],
   "source": [
    "df.head()"
   ]
  },
  {
   "cell_type": "code",
   "execution_count": 102,
   "metadata": {},
   "outputs": [],
   "source": [
    "df_onehot = pd.get_dummies(df)"
   ]
  },
  {
   "cell_type": "code",
   "execution_count": 104,
   "metadata": {},
   "outputs": [
    {
     "data": {
      "text/html": [
       "<div>\n",
       "<style scoped>\n",
       "    .dataframe tbody tr th:only-of-type {\n",
       "        vertical-align: middle;\n",
       "    }\n",
       "\n",
       "    .dataframe tbody tr th {\n",
       "        vertical-align: top;\n",
       "    }\n",
       "\n",
       "    .dataframe thead th {\n",
       "        text-align: right;\n",
       "    }\n",
       "</style>\n",
       "<table border=\"1\" class=\"dataframe\">\n",
       "  <thead>\n",
       "    <tr style=\"text-align: right;\">\n",
       "      <th></th>\n",
       "      <th>Total</th>\n",
       "      <th>Total_Arrived_by_air</th>\n",
       "      <th>Total_Arrived_by_sea</th>\n",
       "      <th>Year</th>\n",
       "      <th>Country_   Alemanha</th>\n",
       "      <th>Country_   Angola</th>\n",
       "      <th>Country_   Argentina</th>\n",
       "      <th>Country_   Arábia Saudita</th>\n",
       "      <th>Country_   Austrália</th>\n",
       "      <th>Country_   Bolívia</th>\n",
       "      <th>...</th>\n",
       "      <th>Region_Europa</th>\n",
       "      <th>Region_Oceania</th>\n",
       "      <th>Region_Oriente Médio</th>\n",
       "      <th>Region_África</th>\n",
       "      <th>Region_Ásia</th>\n",
       "      <th>Continent_América</th>\n",
       "      <th>Continent_Europa</th>\n",
       "      <th>Continent_Oceania</th>\n",
       "      <th>Continent_África</th>\n",
       "      <th>Continent_Ásia</th>\n",
       "    </tr>\n",
       "  </thead>\n",
       "  <tbody>\n",
       "    <tr>\n",
       "      <th>0</th>\n",
       "      <td>8.173575</td>\n",
       "      <td>8.010692</td>\n",
       "      <td>6.280396</td>\n",
       "      <td>2006</td>\n",
       "      <td>0</td>\n",
       "      <td>0</td>\n",
       "      <td>0</td>\n",
       "      <td>0</td>\n",
       "      <td>0</td>\n",
       "      <td>0</td>\n",
       "      <td>...</td>\n",
       "      <td>0</td>\n",
       "      <td>0</td>\n",
       "      <td>0</td>\n",
       "      <td>1</td>\n",
       "      <td>0</td>\n",
       "      <td>0</td>\n",
       "      <td>0</td>\n",
       "      <td>0</td>\n",
       "      <td>1</td>\n",
       "      <td>0</td>\n",
       "    </tr>\n",
       "  </tbody>\n",
       "</table>\n",
       "<p>1 rows × 160 columns</p>\n",
       "</div>"
      ],
      "text/plain": [
       "      Total  Total_Arrived_by_air  Total_Arrived_by_sea  Year  \\\n",
       "0  8.173575              8.010692              6.280396  2006   \n",
       "\n",
       "   Country_   Alemanha  Country_   Angola  Country_   Argentina  \\\n",
       "0                    0                  0                     0   \n",
       "\n",
       "   Country_   Arábia Saudita  Country_   Austrália  Country_   Bolívia  ...  \\\n",
       "0                          0                     0                   0  ...   \n",
       "\n",
       "   Region_Europa  Region_Oceania  Region_Oriente Médio  Region_África  \\\n",
       "0              0               0                     0              1   \n",
       "\n",
       "   Region_Ásia  Continent_América  Continent_Europa  Continent_Oceania  \\\n",
       "0            0                  0                 0                  0   \n",
       "\n",
       "   Continent_África  Continent_Ásia  \n",
       "0                 1               0  \n",
       "\n",
       "[1 rows x 160 columns]"
      ]
     },
     "execution_count": 104,
     "metadata": {},
     "output_type": "execute_result"
    }
   ],
   "source": [
    "df_onehot.head(1)"
   ]
  },
  {
   "cell_type": "code",
   "execution_count": 105,
   "metadata": {},
   "outputs": [
    {
     "name": "stdout",
     "output_type": "stream",
     "text": [
      "0 - 0.8612242266823978\n",
      "1 - 0.8539696739614522\n",
      "2 - 0.8494167830762074\n",
      "3 - 0.8491289143110732\n",
      "4 - 0.8547752141900256\n",
      "5 - 0.8538825642012021\n",
      "6 - 0.8539761601932411\n",
      "7 - 0.8548899608817893\n",
      "8 - 0.855318166066103\n",
      "9 - 0.8558929888058384\n"
     ]
    }
   ],
   "source": [
    "X = df_onehot.drop(columns=['Total', 'Total_Arrived_by_air'])\n",
    "y = df_onehot[['Total_Arrived_by_air']]\n",
    "scores = []\n",
    "\n",
    "for each_outer in range(0,10):\n",
    "    for each_inner in range(0,10):\n",
    "        X_train, X_test, y_train, y_test = train_test_split(X, y, test_size = 0.3)\n",
    "        reg = GradientBoostingRegressor(max_depth=5, n_estimators=100)\n",
    "        reg.fit(X_train, y_train)\n",
    "\n",
    "        reg.predict(X_test)\n",
    "        accuracy = reg.score(X_test, y_test)\n",
    "        scores.append(accuracy)\n",
    "    \n",
    "    print(str(each_outer) + ' - ' + str(mean(scores)))\n",
    "    "
   ]
  },
  {
   "cell_type": "markdown",
   "metadata": {},
   "source": [
    "`Conclusion`\n",
    " \n",
    "* Accuracy decreases on taking log transformation of data "
   ]
  },
  {
   "cell_type": "markdown",
   "metadata": {},
   "source": [
    "____"
   ]
  },
  {
   "cell_type": "markdown",
   "metadata": {},
   "source": [
    "### Winner Model - Gradient Boosting Regressor (Without Log transformation)"
   ]
  },
  {
   "cell_type": "code",
   "execution_count": 113,
   "metadata": {},
   "outputs": [
    {
     "data": {
      "text/plain": [
       "0.9350594797238077"
      ]
     },
     "execution_count": 113,
     "metadata": {},
     "output_type": "execute_result"
    }
   ],
   "source": [
    "df_onehot = pd.get_dummies(df)\n",
    "X = df_onehot.drop(columns=['Total', 'Total_Arrived_by_air'])\n",
    "y = df_onehot[['Total_Arrived_by_air']]\n",
    "X_train, X_test, y_train, y_test = train_test_split(X, y, test_size = 0.3)\n",
    "\n",
    "\n",
    "reg = GradientBoostingRegressor(max_depth=5, n_estimators=100)\n",
    "reg.fit(X_train, y_train)\n",
    "\n",
    "reg.predict(X_test)\n",
    "reg.score(X_test, y_test)"
   ]
  }
 ],
 "metadata": {
  "interpreter": {
   "hash": "54ce3980bf0da3a4aa77af90eb2458675cc73ddb313d5ac3f2fab994261f3811"
  },
  "kernelspec": {
   "display_name": "Python 3.10.4 64-bit",
   "language": "python",
   "name": "python3"
  },
  "language_info": {
   "codemirror_mode": {
    "name": "ipython",
    "version": 3
   },
   "file_extension": ".py",
   "mimetype": "text/x-python",
   "name": "python",
   "nbconvert_exporter": "python",
   "pygments_lexer": "ipython3",
   "version": "3.10.4"
  },
  "orig_nbformat": 4
 },
 "nbformat": 4,
 "nbformat_minor": 2
}
